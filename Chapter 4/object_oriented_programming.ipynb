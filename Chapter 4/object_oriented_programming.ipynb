{
 "cells": [
  {
   "cell_type": "markdown",
   "metadata": {},
   "source": [
    "#### The constructor method runs when we create an instance"
   ]
  },
  {
   "cell_type": "code",
   "execution_count": 8,
   "metadata": {},
   "outputs": [
    {
     "name": "stdout",
     "output_type": "stream",
     "text": [
      "I will now create a person\n",
      "I am currently creating a person\n",
      "I have created a person\n",
      "\n",
      "The person is called John Doe.\n",
      "\n",
      "The person is now called Jane Doe.\n",
      "\n"
     ]
    }
   ],
   "source": [
    "class Person:\n",
    "    \"\"\"\n",
    "    Defines a person\n",
    "\n",
    "    Attributes\n",
    "    ----------\n",
    "    first_name: String\n",
    "        first name of the person\n",
    "    last name: String\n",
    "        last name of the person\n",
    "    \"\"\"\n",
    "    def __init__(self):\n",
    "        print(\"I am currently creating a person\")\n",
    "        self.first_name = \"John\"\n",
    "        self.last_name = \"Doe\"\n",
    "\n",
    "print(\"I will now create a person\")\n",
    "person = Person()\n",
    "print(\"I have created a person\\n\")\n",
    "\n",
    "print(f\"The person is called {person.first_name} {person.last_name}.\\n\")\n",
    "\n",
    "person.first_name = \"Jane\"\n",
    "print(f\"The person is now called {person.first_name} {person.last_name}.\\n\")"
   ]
  },
  {
   "cell_type": "markdown",
   "metadata": {},
   "source": [
    "#### The constructor can take more attributes that need to be given when creating an instance :"
   ]
  },
  {
   "cell_type": "code",
   "execution_count": 9,
   "metadata": {},
   "outputs": [
    {
     "name": "stdout",
     "output_type": "stream",
     "text": [
      "The 1st person is called John McClane and is 68 years old.\n",
      "The 2nd person is called Sarah Connor and is 50 years old..\n"
     ]
    }
   ],
   "source": [
    "import datetime\n",
    "\n",
    "class Person:\n",
    "    \"\"\"\n",
    "    Defines a person\n",
    "\n",
    "    Attributes\n",
    "    ----------\n",
    "    first_name: String\n",
    "        first name of the person\n",
    "    last name: String\n",
    "        last name of the person\n",
    "    \"\"\"\n",
    "    def __init__(self, first_name, last_name, birthday):\n",
    "        self.first_name = first_name\n",
    "        self.last_name = last_name\n",
    "        self.age =  self.compute_age(birthday)\n",
    "        \n",
    "    def compute_age(self, birthday):\n",
    "        today = datetime.date.today()\n",
    "        born = datetime.datetime.strptime(birthday, \"%d/%m/%Y\").date()\n",
    "        return today.year - born.year - ((today.month, today.day) < (born.month, born.day))\n",
    "\n",
    "person1 = Person(first_name=\"John\", last_name=\"McClane\", birthday=\"01/01/1955\")\n",
    "person2 = Person(first_name=\"Sarah\", last_name=\"Connor\", birthday=\"01/01/1973\")\n",
    "\n",
    "print(f\"The 1st person is called {person1.first_name} {person1.last_name} and is {person1.age} years old.\")\n",
    "print(f\"The 2nd person is called {person2.first_name} {person2.last_name} and is {person2.age} years old..\")"
   ]
  },
  {
   "cell_type": "markdown",
   "metadata": {},
   "source": [
    "#### Here is an example of a simple method :"
   ]
  },
  {
   "cell_type": "code",
   "execution_count": 10,
   "metadata": {},
   "outputs": [
    {
     "name": "stdout",
     "output_type": "stream",
     "text": [
      "The 1st person is called John Mcclane.\n",
      "The 2nd person is called Sarah Connor.\n"
     ]
    }
   ],
   "source": [
    "class Person:\n",
    "    \"\"\"\n",
    "    Defines a person\n",
    "\n",
    "    Attributes\n",
    "    ----------\n",
    "    first_name: String\n",
    "        first name of the person\n",
    "    last name: String\n",
    "        last name of the person\n",
    "    \"\"\"\n",
    "    def __init__(self, first_name, last_name):\n",
    "        self.first_name = first_name\n",
    "        self.last_name = last_name\n",
    "        self.friends = []\n",
    "\n",
    "    def get_full_name(self):\n",
    "        return f\"{self.first_name.capitalize()} {self.last_name.capitalize()}\"\n",
    "\n",
    "person1 = Person(first_name=\"JOHN\", last_name=\"McClane\")\n",
    "person2 = Person(first_name=\"Sarah\", last_name=\"Connor\")\n",
    "\n",
    "print(f\"The 1st person is called {person1.get_full_name()}.\")\n",
    "print(f\"The 2nd person is called {person2.get_full_name()}.\")"
   ]
  },
  {
   "cell_type": "markdown",
   "metadata": {},
   "source": [
    "#### Methods can also take more arguments than self"
   ]
  },
  {
   "cell_type": "code",
   "execution_count": 11,
   "metadata": {},
   "outputs": [
    {
     "name": "stdout",
     "output_type": "stream",
     "text": [
      "John Mcclane has no friends :'(\n",
      "Sarah Connor has no friends :'(\n",
      "Bruce Wayne has no friends :'(\n",
      "John Doe has no friends :'(\n",
      "John Mcclane is friends with : Sarah Connor, Bruce Wayne\n",
      "Sarah Connor is friends with : John Mcclane\n",
      "Bruce Wayne is friends with : John Mcclane\n",
      "John Doe has no friends :'(\n"
     ]
    }
   ],
   "source": [
    "class Person:\n",
    "    \"\"\"\n",
    "    Defines a person\n",
    "\n",
    "    Attributes\n",
    "    ----------\n",
    "    first_name: String\n",
    "        first name of the person\n",
    "    last name: String\n",
    "        last name of the person\n",
    "    friends: List[Person]\n",
    "        a list of Person instances that are friends with the person\n",
    "    \"\"\"\n",
    "    def __init__(self, first_name: str = \"John\", last_name: str = \"Doe\"):\n",
    "        self.first_name = first_name\n",
    "        self.last_name = last_name\n",
    "        self.friends = []\n",
    "\n",
    "    def get_full_name(self):\n",
    "        return f\"{self.first_name.capitalize()} {self.last_name.capitalize()}\"\n",
    "    \n",
    "    def make_a_new_friend(self, new_friend):\n",
    "        self.friends.append(new_friend)\n",
    "        if self not in new_friend.friends:\n",
    "            new_friend.make_a_new_friend(self)\n",
    "    \n",
    "    def is_friends_with(self):\n",
    "        if len(self.friends) == 0:\n",
    "            return f\"{self.get_full_name()} has no friends :'(\"\n",
    "        friends_string = \", \".join([f.get_full_name() for f in self.friends])\n",
    "        return f\"{self.get_full_name()} is friends with : {friends_string}\"\n",
    "\n",
    "    def __repr__(self):\n",
    "        return self.get_full_name()\n",
    "    \n",
    "\n",
    "person1 = Person(first_name=\"john\", last_name=\"McClane\")\n",
    "person2 = Person(first_name=\"Sarah\", last_name=\"Connor\")\n",
    "person3 = Person(\"Bruce\", \"Wayne\")\n",
    "person4 = Person()\n",
    "\n",
    "print(person1.is_friends_with())\n",
    "print(person2.is_friends_with())\n",
    "print(person3.is_friends_with())\n",
    "print(person4.is_friends_with())\n",
    "\n",
    "person1.make_a_new_friend(person2)\n",
    "person1.make_a_new_friend(person3)\n",
    "\n",
    "print(person1.is_friends_with())\n",
    "print(person2.is_friends_with())\n",
    "print(person3.is_friends_with())\n",
    "print(person4.is_friends_with())"
   ]
  },
  {
   "cell_type": "markdown",
   "metadata": {},
   "source": [
    "#### Class attributes are defined directly in the body of the class\n",
    "\n",
    "They can be accessed by calling the class in itself"
   ]
  },
  {
   "cell_type": "code",
   "execution_count": 12,
   "metadata": {},
   "outputs": [
    {
     "name": "stdout",
     "output_type": "stream",
     "text": [
      "Accessing attribute with class : 1\n",
      "Accessing attribute with instance : 1\n",
      "\n",
      "Accessing attribute with class : 2\n",
      "Accessing attribute with instance person1 : 2\n",
      "Accessing attribute with instance person2 : 2\n",
      "\n",
      "Accessing attribute with class : 3\n",
      "Accessing attribute with instance person1 : 3\n",
      "Accessing attribute with instance person2 : 3\n",
      "Accessing attribute with instance person2 : 3\n"
     ]
    }
   ],
   "source": [
    "class Person:\n",
    "    \"\"\"\n",
    "    Defines a person\n",
    "\n",
    "    Class attributes\n",
    "    ----------\n",
    "    number_of_persons: Integer\n",
    "        A simple counter that counts the instances of Person\n",
    "\n",
    "\n",
    "    Attributes\n",
    "    ----------\n",
    "    first_name: String\n",
    "        first name of the person\n",
    "    last name: String\n",
    "        last name of the person\n",
    "    friends: List[Person]\n",
    "        a list of Person instances that are friends with the person\n",
    "    \"\"\"\n",
    "    \n",
    "    number_of_persons = 0\n",
    "\n",
    "    def __init__(self, first_name: str = \"John\", last_name: str = \"Doe\"):\n",
    "        self.first_name = first_name\n",
    "        self.last_name = last_name\n",
    "        self.friends = []\n",
    "        Person.number_of_persons += 1\n",
    "    \n",
    "    def make_a_new_friend(self, new_friend):\n",
    "        self.friends.append(new_friend)\n",
    "        if self not in new_friend.friends:\n",
    "            new_friend.make_a_new_friend(self)\n",
    "    \n",
    "    def is_friends_with(self):\n",
    "        if len(self.friends) == 0:\n",
    "            return f\"{self.get_full_name()} has no friends :'(\"\n",
    "        friends_names = [friend.get_full_name() for friend in self.friends]\n",
    "        return f\"{self.get_full_name()} is friends with : {', '.join(friends_names)}\"\n",
    "    \n",
    "    def get_full_name(self):\n",
    "        return f\"{self.first_name.capitalize()} {self.last_name.capitalize()}\"\n",
    "\n",
    "\n",
    "person1 = Person()\n",
    "\n",
    "print(f\"Accessing attribute with class : {Person.number_of_persons}\")\n",
    "print(f\"Accessing attribute with instance : {person1.number_of_persons}\\n\")\n",
    "\n",
    "person2 = Person()\n",
    "\n",
    "print(f\"Accessing attribute with class : {Person.number_of_persons}\")\n",
    "print(f\"Accessing attribute with instance person1 : {person1.number_of_persons}\")\n",
    "print(f\"Accessing attribute with instance person2 : {person2.number_of_persons}\\n\")\n",
    "\n",
    "person3 = Person()\n",
    "print(f\"Accessing attribute with class : {Person.number_of_persons}\")\n",
    "print(f\"Accessing attribute with instance person1 : {person1.number_of_persons}\")\n",
    "print(f\"Accessing attribute with instance person2 : {person2.number_of_persons}\")\n",
    "print(f\"Accessing attribute with instance person2 : {person3.number_of_persons}\")"
   ]
  },
  {
   "cell_type": "markdown",
   "metadata": {},
   "source": [
    "#### Class methods and static methods are declared with a decorator"
   ]
  },
  {
   "cell_type": "code",
   "execution_count": 13,
   "metadata": {},
   "outputs": [
    {
     "name": "stdout",
     "output_type": "stream",
     "text": [
      "['John Doe', 'John Doe', 'John Doe', 'John Doe', 'John Doe', 'John Doe', 'John Doe', 'John Doe', 'John Doe', 'John Doe']\n",
      "There are 10 inhabitants in our virtual city.\n"
     ]
    }
   ],
   "source": [
    "class Person:\n",
    "    \"\"\"\n",
    "    Defines a person\n",
    "\n",
    "    Class attributes\n",
    "    ----------\n",
    "    number_of_persons: Integer\n",
    "        A simple counter that counts the instances of Person\n",
    "\n",
    "\n",
    "    Attributes\n",
    "    ----------\n",
    "    first_name: String\n",
    "        first name of the person\n",
    "    last name: String\n",
    "        last name of the person\n",
    "    friends: List[Person]\n",
    "        a list of Person instances that are friends with the person\n",
    "    \"\"\"\n",
    "\n",
    "    number_of_persons = 0\n",
    "\n",
    "    def __init__(self, first_name: str = \"John\", last_name: str = \"Doe\"):\n",
    "        self.first_name = first_name\n",
    "        self.last_name = last_name\n",
    "        self.friends = []\n",
    "        Person.number_of_persons += 1\n",
    "\n",
    "    def get_full_name(self):\n",
    "        return self.get_capitalized_full_name(self.first_name, self.last_name)\n",
    "    \n",
    "    def make_a_new_friend(self, new_friend):\n",
    "        self.friends.append(new_friend)\n",
    "        if self not in new_friend.friends:\n",
    "            new_friend.make_a_new_friend(self)\n",
    "    \n",
    "    def is_friends_with(self):\n",
    "        if len(self.friends) == 0:\n",
    "            return f\"{self.get_full_name()} has no friends :'(\"\n",
    "        friends_names = [friend.get_full_name() for friend in self.friends]\n",
    "        return f\"{self.get_full_name()} is friends with : {', '.join(friends_names)}\"\n",
    "\n",
    "    @classmethod\n",
    "    def get_number_of_inhabitants(cls):\n",
    "        return f\"There are {cls.number_of_persons} inhabitants in our virtual city.\"\n",
    "\n",
    "    @classmethod\n",
    "    def create_batch(cls, batch_size: int):\n",
    "        return [cls() for i in range(batch_size)]\n",
    "\n",
    "    @staticmethod\n",
    "    def get_capitalized_full_name(first_name: str, last_name: str):\n",
    "        return f\"{first_name.capitalize()} {last_name.capitalize()}\"\n",
    "\n",
    "\n",
    "persons = Person.create_batch(10)\n",
    "print([person.get_full_name() for person in persons])\n",
    "print(Person.get_number_of_inhabitants())"
   ]
  },
  {
   "cell_type": "markdown",
   "metadata": {},
   "source": [
    "#### Properties allow us to set and get our attributes in a custom way\n",
    "\n",
    "The underscores in front of the attributes and the methods mean that they are **protected**.\n",
    "\n",
    "This doesn't have any functional impact, but it is a convention that you should not use protected attributes and methods outside of the class.\n",
    "\n",
    "For example with the class below, **you must avoid writing** : \n",
    "```\n",
    "person = Person()\n",
    "person._first_name\n",
    "```\n",
    "You should use the property and write : \n",
    "```\n",
    "person = Person()\n",
    "person.first_name\n",
    "```"
   ]
  },
  {
   "cell_type": "code",
   "execution_count": 14,
   "metadata": {},
   "outputs": [],
   "source": [
    "class Person:\n",
    "    \"\"\"\n",
    "    Defines a person\n",
    "\n",
    "    Attributes\n",
    "    ----------\n",
    "    first_name: String\n",
    "        first name of the person\n",
    "    last name: String\n",
    "        last name of the person\n",
    "    \"\"\"\n",
    "\n",
    "    def __init__(self, first_name: str = \"John\", last_name: str = \"Doe\"):\n",
    "        self._check_names_validity(first_name, last_name)\n",
    "        self._first_name = first_name\n",
    "        self._last_name = last_name\n",
    "\n",
    "    @staticmethod\n",
    "    def _check_names_validity(*names):\n",
    "        for name in names:\n",
    "            if not isinstance(name, str):\n",
    "                raise TypeError(f\"{str(name)} is not a string.\")\n",
    "            if name == \"\":\n",
    "                raise ValueError(\"Il s'appelle juste Leblanc ?\")\n",
    "\n",
    "    def _get_first_name(self):\n",
    "        return self._first_name\n",
    "\n",
    "    def _set_first_name(self, new_name):\n",
    "        self._check_names_validity(new_name)\n",
    "        self._first_name = new_name\n",
    "\n",
    "    def _get_last_name(self):\n",
    "        return self._last_name\n",
    "\n",
    "    def _set_last_name(self, new_name: str):\n",
    "        self._check_names_validity(new_name)\n",
    "        self._last_name = new_name\n",
    "\n",
    "    def get_full_name(self):\n",
    "        return f\"{self.first_name.capitalize()} {self.last_name.capitalize()}\"\n",
    "\n",
    "    first_name = property(_get_first_name, _set_first_name)\n",
    "    last_name = property(_get_last_name, _set_last_name)\n",
    "\n"
   ]
  }
 ],
 "metadata": {
  "kernelspec": {
   "display_name": "Python 3 (ipykernel)",
   "language": "python",
   "name": "python3"
  },
  "language_info": {
   "codemirror_mode": {
    "name": "ipython",
    "version": 3
   },
   "file_extension": ".py",
   "mimetype": "text/x-python",
   "name": "python",
   "nbconvert_exporter": "python",
   "pygments_lexer": "ipython3",
   "version": "3.11.3"
  },
  "vscode": {
   "interpreter": {
    "hash": "1a1af0ee75eeea9e2e1ee996c87e7a2b11a0bebd85af04bb136d915cefc0abce"
   }
  }
 },
 "nbformat": 4,
 "nbformat_minor": 4
}
