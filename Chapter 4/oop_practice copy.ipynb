{
 "cells": [
  {
   "cell_type": "code",
   "execution_count": 2,
   "metadata": {},
   "outputs": [],
   "source": [
    "# Create an instance of the class \"Cat\"\n",
    "class Cat:\n",
    "    pass\n",
    "\n",
    "kitty = Cat()  # Change this line\n",
    "\n",
    "assert isinstance(kitty, Cat)"
   ]
  },
  {
   "cell_type": "code",
   "execution_count": 4,
   "metadata": {},
   "outputs": [
    {
     "name": "stdout",
     "output_type": "stream",
     "text": [
      "0\n",
      "1\n"
     ]
    }
   ],
   "source": [
    "# Change the value of the attribute\n",
    "class Cat:\n",
    "    def __init__(self):\n",
    "        self.age = 0\n",
    "\n",
    "\n",
    "cat_1 = Cat()\n",
    "print(cat_1.age)\n",
    "cat_1.age = 1\n",
    "print(cat_1.age)\n",
    "\n",
    "assert cat_1.age == 1"
   ]
  },
  {
   "cell_type": "code",
   "execution_count": 11,
   "metadata": {},
   "outputs": [
    {
     "name": "stdout",
     "output_type": "stream",
     "text": [
      "result is Meow!\n"
     ]
    }
   ],
   "source": [
    "# Create a method called \"meow\" that will make the assertion correct\n",
    "class Cat:\n",
    "    def meow(self):\n",
    "        return \"Meow!\"\n",
    "\n",
    "kitty = Cat()\n",
    "\n",
    "result = kitty.meow()\n",
    "print(f\"result is {result}\")\n",
    "\n",
    "assert result == \"Meow!\""
   ]
  },
  {
   "cell_type": "code",
   "execution_count": 19,
   "metadata": {},
   "outputs": [
    {
     "name": "stdout",
     "output_type": "stream",
     "text": [
      "6\n"
     ]
    }
   ],
   "source": [
    "# Create a method called \"meow\" that will make the assertion correct\n",
    "class Cat:\n",
    "    def __init__(self, age):\n",
    "        self.age = age\n",
    "\n",
    "    def meow(self):\n",
    "        return f\"Meow, I am {self.age} years old!\"\n",
    "\n",
    "\n",
    "kitty = Cat(age=6)\n",
    "\n",
    "result = kitty.meow()\n",
    "\n",
    "assert result == \"Meow, I am 6 years old!\"\n"
   ]
  },
  {
   "cell_type": "code",
   "execution_count": 20,
   "metadata": {},
   "outputs": [],
   "source": [
    "# Create a class method called \"simple_cat_fact\" that will make the assertion correct\n",
    "class Cat:\n",
    "    @classmethod\n",
    "    def simple_cat_fact(cls):\n",
    "        return \"Cats are great!\"\n",
    "\n",
    "result = Cat.simple_cat_fact()\n",
    "assert result == \"Cats are great!\""
   ]
  },
  {
   "cell_type": "code",
   "execution_count": 25,
   "metadata": {},
   "outputs": [],
   "source": [
    "# Create a method called \"get_breed\" that returns the attribute \"breed\"\n",
    "# Do not directly return the expected value, the method must work even if the attribute's value changes\n",
    "class Cat:\n",
    "    def __init__(self, breed=\"Siamese\"):\n",
    "        self.breed = breed\n",
    "    \n",
    "    def get_breed(self):\n",
    "        return f\"This cat's breed is : {self.breed}\"\n",
    "\n",
    "\n",
    "instance = Cat(\"Ragdoll\")\n",
    "result = instance.get_breed()\n",
    "\n",
    "assert result == \"This cat's breed is : Ragdoll\"\n"
   ]
  },
  {
   "cell_type": "code",
   "execution_count": 26,
   "metadata": {},
   "outputs": [],
   "source": [
    "# Create a class method called \"get_natural_enemy\" that returns the class attribute \"natural_enemy\"\n",
    "# Do not directly return the expected value, the method must work even if the attribute's value changes\n",
    "class Cat:\n",
    "    natural_enemy = \"Dog\"\n",
    "\n",
    "    @classmethod\n",
    "    def get_natural_enemy(cls):\n",
    "        return f\"The natural enemy of Cat is : {cls.natural_enemy}\"\n",
    "\n",
    "\n",
    "assert Cat.get_natural_enemy() == \"The natural enemy of Cat is : Dog\""
   ]
  },
  {
   "cell_type": "code",
   "execution_count": 27,
   "metadata": {},
   "outputs": [],
   "source": [
    "# Modify the __init__ method so that it accepts two arguments and creates two attributes with them\n",
    "class Cat:\n",
    "    def __init__(self, breed, age=0, color=\"white\"):\n",
    "        self.age = age\n",
    "        self.breed = breed\n",
    "        self.color = color\n",
    "\n",
    "\n",
    "instance = Cat(\"Siamese\", 5)\n",
    "\n",
    "assert instance.breed == \"Siamese\"\n",
    "assert instance.age == 5"
   ]
  }
 ],
 "metadata": {
  "kernelspec": {
   "display_name": "Python 3 (ipykernel)",
   "language": "python",
   "name": "python3"
  },
  "language_info": {
   "codemirror_mode": {
    "name": "ipython",
    "version": 3
   },
   "file_extension": ".py",
   "mimetype": "text/x-python",
   "name": "python",
   "nbconvert_exporter": "python",
   "pygments_lexer": "ipython3",
   "version": "3.10.4"
  },
  "vscode": {
   "interpreter": {
    "hash": "1a1af0ee75eeea9e2e1ee996c87e7a2b11a0bebd85af04bb136d915cefc0abce"
   }
  }
 },
 "nbformat": 4,
 "nbformat_minor": 4
}
