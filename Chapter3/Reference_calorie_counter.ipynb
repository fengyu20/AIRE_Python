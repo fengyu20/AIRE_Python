{
 "cells": [
  {
   "cell_type": "code",
   "execution_count": 1,
   "metadata": {},
   "outputs": [
    {
     "name": "stdout",
     "output_type": "stream",
     "text": [
      "670\n",
      "670\n"
     ]
    }
   ],
   "source": [
    "calories = {\n",
    "   'Hamburger': 600,\n",
    "   'Cheese Burger': 750,\n",
    "   'Veggie Burger': 400,\n",
    "   'Vegan Burger': 350,\n",
    "   'Sweet Potatoes': 230,\n",
    "   'Salad': 15,\n",
    "   'Iced Tea': 70,\n",
    "   'Lemonade': 90,\n",
    "}\n",
    "\n",
    "\n",
    "# OPTION 1 : Pass a list as an argument\n",
    "def calorie_counter(order):\n",
    "    total_calories = 0\n",
    "    for item in order:\n",
    "        total_calories = total_calories + calories[item]\n",
    "    return total_calories\n",
    "\n",
    "\n",
    "result = calorie_counter([\"Hamburger\", \"Iced Tea\"])\n",
    "print(result)\n",
    "\n",
    "\n",
    "# OPTION 2 : Use *args\n",
    "def calorie_counter_with_args(*order):\n",
    "    total_calories = 0\n",
    "    for item in order:\n",
    "        total_calories = total_calories + calories[item]\n",
    "    return total_calories\n",
    "\n",
    "\n",
    "result = calorie_counter_with_args(\"Hamburger\", \"Iced Tea\")\n",
    "print(result)\n"
   ]
  }
 ],
 "metadata": {
  "kernelspec": {
   "display_name": ".venv",
   "language": "python",
   "name": "python3"
  },
  "language_info": {
   "codemirror_mode": {
    "name": "ipython",
    "version": 3
   },
   "file_extension": ".py",
   "mimetype": "text/x-python",
   "name": "python",
   "nbconvert_exporter": "python",
   "pygments_lexer": "ipython3",
   "version": "3.11.3"
  },
  "orig_nbformat": 4
 },
 "nbformat": 4,
 "nbformat_minor": 2
}
