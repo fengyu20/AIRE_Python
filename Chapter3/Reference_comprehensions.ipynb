{
 "cells": [
  {
   "cell_type": "code",
   "execution_count": null,
   "metadata": {},
   "outputs": [],
   "source": [
    "lalalalalalalala = {\n",
    "    'name': 'Jenn',\n",
    "    'age': 23,\n",
    "    'courses': ['Math', 'CompSci'],\n",
    "    'is_cool': False,\n",
    "}\n",
    "\n",
    "lalalalalalalala[\"name\"]"
   ]
  },
  {
   "cell_type": "code",
   "execution_count": null,
   "metadata": {},
   "outputs": [],
   "source": [
    "person = {\"name\": \"Jack\", \"age\": 26}\n",
    "print(person.keys())\n",
    "for key in person.keys():\n",
    "    print(key)"
   ]
  },
  {
   "cell_type": "code",
   "execution_count": null,
   "metadata": {},
   "outputs": [],
   "source": [
    "person = {\"name\": \"Jack\", \"age\": 26}\n",
    "print(person.values())\n",
    "for value in person.values():\n",
    "    print(value)"
   ]
  },
  {
   "cell_type": "code",
   "execution_count": null,
   "metadata": {},
   "outputs": [],
   "source": [
    "person = {\"name\": \"Jack\", \"age\": 26}\n",
    "print(person.items())\n",
    "for key, value in person.items():\n",
    "    print(f\"key is {key} and value is {value}\")"
   ]
  },
  {
   "cell_type": "markdown",
   "metadata": {},
   "source": [
    "Lists and dictionaries comprehension\n",
    "```\n",
    "final_list = [\n",
    "\tfunction(x)\n",
    "\tfor x in iterable\n",
    "\tif condition(x)\n",
    "]\n",
    "```"
   ]
  },
  {
   "cell_type": "code",
   "execution_count": null,
   "metadata": {},
   "outputs": [],
   "source": [
    "initial_list = [0, 1, 2, 3, 4, 5, 6, 7, 8, 9]\n",
    "\n",
    "final_list = [\n",
    "    str(number)\n",
    "    for number in initial_list\n",
    "    if number % 2 == 0 and number != 0\n",
    "]\n",
    "\n",
    "print(final_list)\n",
    "assert final_list == [\"2\", \"4\", \"6\", \"8\"]\n",
    "\n"
   ]
  },
  {
   "cell_type": "code",
   "execution_count": null,
   "metadata": {},
   "outputs": [],
   "source": [
    "initial_dict = {\"name\": \"Jack\", \"age\": 26}\n",
    "\n",
    "\n",
    "final_list = [\n",
    "    f\"The person's {key} is {value}\"\n",
    "    for key, value in initial_dict.items()\n",
    "]\n",
    "\n",
    "\n",
    "assert final_list == [\n",
    "\t\"The person's name is Jack\",\n",
    "\t\"The person's age is 26\"\n",
    "]\n"
   ]
  }
 ],
 "metadata": {
  "kernelspec": {
   "display_name": ".venv",
   "language": "python",
   "name": "python3"
  },
  "language_info": {
   "codemirror_mode": {
    "name": "ipython",
    "version": 3
   },
   "file_extension": ".py",
   "mimetype": "text/x-python",
   "name": "python",
   "nbconvert_exporter": "python",
   "pygments_lexer": "ipython3",
   "version": "3.10.4"
  },
  "orig_nbformat": 4
 },
 "nbformat": 4,
 "nbformat_minor": 2
}
