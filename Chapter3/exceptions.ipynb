{
 "cells": [
  {
   "cell_type": "code",
   "execution_count": 11,
   "id": "67a94f69-6418-4cea-a924-98143de436ec",
   "metadata": {},
   "outputs": [
    {
     "ename": "TypeError",
     "evalue": "Can not add int with int",
     "output_type": "error",
     "traceback": [
      "\u001b[0;31m---------------------------------------------------------------------------\u001b[0m",
      "\u001b[0;31mTypeError\u001b[0m                                 Traceback (most recent call last)",
      "Cell \u001b[0;32mIn[11], line 3\u001b[0m\n\u001b[1;32m      2\u001b[0m \u001b[39mtry\u001b[39;00m:\n\u001b[0;32m----> 3\u001b[0m     x \u001b[39m=\u001b[39m \u001b[39m1\u001b[39;49m \u001b[39m+\u001b[39;49m \u001b[39m\"\u001b[39;49m\u001b[39ma\u001b[39;49m\u001b[39m\"\u001b[39;49m\n\u001b[1;32m      4\u001b[0m \u001b[39mexcept\u001b[39;00m:\n",
      "\u001b[0;31mTypeError\u001b[0m: unsupported operand type(s) for +: 'int' and 'str'",
      "\nDuring handling of the above exception, another exception occurred:\n",
      "\u001b[0;31mTypeError\u001b[0m                                 Traceback (most recent call last)",
      "Cell \u001b[0;32mIn[11], line 5\u001b[0m\n\u001b[1;32m      3\u001b[0m     x \u001b[39m=\u001b[39m \u001b[39m1\u001b[39m \u001b[39m+\u001b[39m \u001b[39m\"\u001b[39m\u001b[39ma\u001b[39m\u001b[39m\"\u001b[39m\n\u001b[1;32m      4\u001b[0m \u001b[39mexcept\u001b[39;00m:\n\u001b[0;32m----> 5\u001b[0m     \u001b[39mraise\u001b[39;00m \u001b[39mTypeError\u001b[39;00m (\u001b[39m\"\u001b[39m\u001b[39mCan not add int with int\u001b[39m\u001b[39m\"\u001b[39m)\n",
      "\u001b[0;31mTypeError\u001b[0m: Can not add int with int"
     ]
    }
   ],
   "source": [
    "# When you run something that doesn't make sense, python raises an error\n",
    "try:\n",
    "    x = 1 + \"a\"\n",
    "except:\n",
    "    raise TypeError (\"Can not add int with int\")"
   ]
  },
  {
   "cell_type": "code",
   "execution_count": 7,
   "id": "c94e5b9e",
   "metadata": {},
   "outputs": [
    {
     "ename": "BaseException",
     "evalue": "",
     "output_type": "error",
     "traceback": [
      "\u001b[0;31m---------------------------------------------------------------------------\u001b[0m",
      "\u001b[0;31mBaseException\u001b[0m                             Traceback (most recent call last)",
      "Cell \u001b[0;32mIn[7], line 3\u001b[0m\n\u001b[1;32m      1\u001b[0m \u001b[39m# You can also choose to raise Exceptions yourself\u001b[39;00m\n\u001b[1;32m      2\u001b[0m \u001b[39m# This is useful if you want your program to crash in certain circumstances\u001b[39;00m\n\u001b[0;32m----> 3\u001b[0m \u001b[39mraise\u001b[39;00m \u001b[39mBaseException\u001b[39;00m\n",
      "\u001b[0;31mBaseException\u001b[0m: "
     ]
    }
   ],
   "source": [
    "# You can also choose to raise Exceptions yourself\n",
    "# This is useful if you want your program to crash in certain circumstances\n",
    "raise BaseException"
   ]
  },
  {
   "cell_type": "code",
   "execution_count": null,
   "id": "4074ab42",
   "metadata": {},
   "outputs": [],
   "source": [
    "# You can choose to raise specific kind of errors\n",
    "raise ValueError"
   ]
  },
  {
   "cell_type": "code",
   "execution_count": null,
   "id": "0383ae36",
   "metadata": {},
   "outputs": [],
   "source": [
    "# And you can add a message explaining why it crashed\n",
    "raise ValueError(\"I am uselessly raising an error\")"
   ]
  },
  {
   "cell_type": "code",
   "execution_count": null,
   "id": "a0f7f911",
   "metadata": {},
   "outputs": [
    {
     "data": {
      "text/plain": [
       "6"
      ]
     },
     "execution_count": 1,
     "metadata": {},
     "output_type": "execute_result"
    }
   ],
   "source": [
    "# It can be used like this:\n",
    "def multiply(a, b):\n",
    "    if not type(a) == int or not isinstance(b, int):\n",
    "        raise ValueError(\"One of your values is not a number\")\n",
    "    return a * b\n",
    "\n",
    "multiply(2, 3)"
   ]
  },
  {
   "cell_type": "code",
   "execution_count": null,
   "id": "b68197b8-6ae8-41e9-b10f-5e0d93678f26",
   "metadata": {},
   "outputs": [
    {
     "name": "stdout",
     "output_type": "stream",
     "text": [
      "Something went wrong with 0\n",
      "1.0\n",
      "0.5\n",
      "0.3333333333333333\n",
      "0.25\n",
      "0.2\n",
      "0.16666666666666666\n",
      "0.14285714285714285\n",
      "0.125\n",
      "0.1111111111111111\n"
     ]
    }
   ],
   "source": [
    "# You can catch these errors with \"try\" and define a specific action with \"except\"\n",
    "# \"except\" has to be defined when you use \"try\"\n",
    "for i in range(10):\n",
    "    try:\n",
    "        x = 1 / i\n",
    "        print(x)\n",
    "    except:\n",
    "        print(f\"Something went wrong with {i}\")"
   ]
  },
  {
   "cell_type": "code",
   "execution_count": null,
   "id": "8732305d-4c65-4cd3-95b8-a7be4c74ef42",
   "metadata": {},
   "outputs": [
    {
     "name": "stdout",
     "output_type": "stream",
     "text": [
      "Sorry, wrong type !\n"
     ]
    }
   ],
   "source": [
    "# You can try to catch different types of errors and write a specific action for each\n",
    "# You can also add a bare \"except\" to catch all other errors\n",
    "try:\n",
    "    x = 1 + \"a\"\n",
    "except TypeError:\n",
    "    print(\"Sorry, wrong type !\")\n",
    "except:\n",
    "    print(\"I really don't know what happened\")"
   ]
  },
  {
   "cell_type": "code",
   "execution_count": 8,
   "id": "c84bab5a-0654-4820-b200-2e6fee50a74e",
   "metadata": {},
   "outputs": [
    {
     "name": "stdout",
     "output_type": "stream",
     "text": [
      "I really don't know what happened\n"
     ]
    }
   ],
   "source": [
    "try:\n",
    "    x = 1 + \"a\"\n",
    "except ValueError:\n",
    "    print(\"Sorry, wrong value !\")\n",
    "except:\n",
    "    print(\"I really don't know what happened\")"
   ]
  },
  {
   "cell_type": "code",
   "execution_count": 9,
   "id": "5bf9f512-108e-457d-812c-eeb2d237b627",
   "metadata": {},
   "outputs": [
    {
     "name": "stdout",
     "output_type": "stream",
     "text": [
      "3\n"
     ]
    }
   ],
   "source": [
    "# You can use else to perform an action in case of a success\n",
    "# But it's cleaner to write that after your try/except \n",
    "try:\n",
    "    x = 1 + 2\n",
    "except:\n",
    "    print(\"We have a problem\")\n",
    "else:\n",
    "    print(x)"
   ]
  },
  {
   "cell_type": "code",
   "execution_count": 12,
   "id": "4e1c9ad4-22c6-412d-9923-d0bfab3f8bcb",
   "metadata": {},
   "outputs": [
    {
     "name": "stdout",
     "output_type": "stream",
     "text": [
      "lets try with a string :\n",
      "This is not the right type : hello\n",
      "A calculator could have done the job...\n",
      "\n",
      "lets try to divide by zero :\n",
      "Something weird happened : division by zero.\n",
      "A calculator could have done the job...\n",
      "\n",
      "lets try a valid one :\n",
      "result is 0.5\n",
      "A calculator could have done the job...\n",
      "\n"
     ]
    }
   ],
   "source": [
    "# here is one example of how you could use it\n",
    "def invert(value):\n",
    "    try:  # Try to execute this action\n",
    "        result = 1 / value\n",
    "    # If you provide a value that is not invertable, raise a TypeError\n",
    "    except TypeError:  \n",
    "        print(f\"This is not the right type : {value}\")\n",
    "    # If you catch any other error derived from Exception (the mother class of most python errors),\n",
    "    # print the exception.\n",
    "    except Exception as e:\n",
    "        print(f\"Something weird happened : {e}.\") \n",
    "    # print the result if no error is caught\n",
    "    else:\n",
    "        print(f\"result is {result}\")\n",
    "    # No matter what happens, print a message\n",
    "    finally:\n",
    "        print(f\"A calculator could have done the job...\\n\")\n",
    "\n",
    "print(\"lets try with a string :\")\n",
    "invert(\"hello\")\n",
    "\n",
    "print(\"lets try to divide by zero :\")\n",
    "invert(0)\n",
    "\n",
    "print(\"lets try a valid one :\")\n",
    "invert(2)"
   ]
  }
 ],
 "metadata": {
  "kernelspec": {
   "display_name": "Python 3 (ipykernel)",
   "language": "python",
   "name": "python3"
  },
  "language_info": {
   "codemirror_mode": {
    "name": "ipython",
    "version": 3
   },
   "file_extension": ".py",
   "mimetype": "text/x-python",
   "name": "python",
   "nbconvert_exporter": "python",
   "pygments_lexer": "ipython3",
   "version": "3.11.3"
  }
 },
 "nbformat": 4,
 "nbformat_minor": 5
}
