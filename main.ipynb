{
 "cells": [
  {
   "cell_type": "code",
   "execution_count": null,
   "metadata": {},
   "outputs": [],
   "source": [
    "import pandas as pd\n",
    "import matplotlib.pyplot as plt\n",
    "from meal_counter.functions import price_counter, calorie_counter\n",
    "from meal_counter.classes import Order\n",
    "from meal_counter.data_analysis.da_functions import profitable_meal, most_ordered_combo, most_ordered_meal"
   ]
  },
  {
   "cell_type": "markdown",
   "metadata": {},
   "source": [
    "## 1. Functions\n",
    "If you want to calculate the price and calories of a meal list"
   ]
  },
  {
   "cell_type": "code",
   "execution_count": null,
   "metadata": {},
   "outputs": [],
   "source": [
    "# suppose you have the following meals\n",
    "meal_combo_list = [\"sweet potatoes\",\"vegan combo\",\"cheesy combo\"]\n",
    "meal_list = [\"sweet potatoes\", \"veggie burger\"]\n",
    "\n",
    "# calculate the total price\n",
    "print(f'Total price for meal_combo_list: {price_counter(meal_combo_list)}')\n",
    "print(f'Total price for meal_list: {price_counter(meal_list)}')\n",
    "\n",
    "# calculate the total calories\n",
    "print(f'Total calories for meal_combo_list: {calorie_counter(meal_combo_list)}')\n",
    "print(f'Total calories for meal_list: {calorie_counter(meal_list)}')"
   ]
  },
  {
   "cell_type": "code",
   "execution_count": null,
   "metadata": {},
   "outputs": [],
   "source": [
    "# assume we have the wrong list\n",
    "wrong_list = [\"weet potatoes\"]\n",
    "\n",
    "try:\n",
    "    price_counter(wrong_list)\n",
    "except Exception as e:\n",
    "    print(f\"Could not get the price as : {e}\")\n",
    "\n",
    "try:\n",
    "    calorie_counter(wrong_list)\n",
    "except Exception as e:\n",
    "    print(f\"Could not get the calorie as : {e}\")"
   ]
  },
  {
   "cell_type": "markdown",
   "metadata": {},
   "source": [
    "## 2. Classes"
   ]
  },
  {
   "cell_type": "code",
   "execution_count": null,
   "metadata": {},
   "outputs": [],
   "source": [
    "# check the normal order\n",
    "normal_order = Order(meal_combo_list)\n",
    "\n",
    "print(normal_order.calories)\n",
    "print(normal_order.price)\n",
    "print(normal_order.get_order_accepted())"
   ]
  },
  {
   "cell_type": "code",
   "execution_count": null,
   "metadata": {},
   "outputs": [],
   "source": [
    "# check the big meal order\n",
    "big_meal_list = [\"sweet potatoes\", \"veggie burger\",\"vegan combo\",\"cheesy combo\"]\n",
    "big_order = Order(big_meal_list)\n",
    "\n",
    "print(big_order.get_order_accepted())\n",
    "print(big_order.get_order_refused_reason())\n"
   ]
  },
  {
   "cell_type": "code",
   "execution_count": null,
   "metadata": {},
   "outputs": [],
   "source": [
    "# check the wrong order\n",
    "wrong_order = Order(wrong_list)\n",
    "\n",
    "print(wrong_order.get_order_accepted())\n",
    "print(wrong_order.get_order_refused_reason())"
   ]
  },
  {
   "cell_type": "markdown",
   "metadata": {},
   "source": [
    "## 3. Data Analysis\n",
    "You can get the following results:\n",
    "- most ordered meals\n",
    "- most ordered combo\n",
    "- acombo or meal that brought the most money."
   ]
  },
  {
   "cell_type": "code",
   "execution_count": 2,
   "metadata": {},
   "outputs": [
    {
     "ename": "NameError",
     "evalue": "name 'order_history' is not defined",
     "output_type": "error",
     "traceback": [
      "\u001b[0;31m---------------------------------------------------------------------------\u001b[0m",
      "\u001b[0;31mNameError\u001b[0m                                 Traceback (most recent call last)",
      "Cell \u001b[0;32mIn[2], line 1\u001b[0m\n\u001b[0;32m----> 1\u001b[0m order_history\u001b[39m.\u001b[39mmain\n",
      "\u001b[0;31mNameError\u001b[0m: name 'order_history' is not defined"
     ]
    }
   ],
   "source": [
    "# read order history from the json file and convert them to csv files\n",
    "!python3 -m meal_counter.data_analysis.order_history"
   ]
  },
  {
   "cell_type": "code",
   "execution_count": null,
   "metadata": {},
   "outputs": [],
   "source": [
    "# print the most ordered meal\n",
    "print(most_ordered_meal())"
   ]
  },
  {
   "cell_type": "code",
   "execution_count": null,
   "metadata": {},
   "outputs": [],
   "source": [
    "# print the most ordered combo\n",
    "print(most_ordered_combo())"
   ]
  },
  {
   "cell_type": "code",
   "execution_count": null,
   "metadata": {},
   "outputs": [],
   "source": [
    "# print the most profitable meal\n",
    "print(profitable_meal())"
   ]
  },
  {
   "cell_type": "markdown",
   "metadata": {},
   "source": [
    "## 4. Plots\n",
    "Contains functions for plotting data, including\n",
    "- total calories per day\n",
    "- total earnings per day\n",
    "- average earnings by customer served per day."
   ]
  },
  {
   "cell_type": "code",
   "execution_count": null,
   "metadata": {},
   "outputs": [],
   "source": [
    "# process the data to draw the plot\n",
    "# read from the csv and also convert string to list for future use\n",
    "order_df = pd.read_csv('meal_counter/data/order_df.csv', converters={'items': eval})\n",
    "\n",
    "# calculate the price and calories of each day for the accepted orders\n",
    "daily_sums = order_df[order_df['order_accepted'] == True].groupby('date')[['price', 'calories']].sum().reset_index()"
   ]
  },
  {
   "cell_type": "code",
   "execution_count": null,
   "metadata": {},
   "outputs": [],
   "source": [
    "# create a plot to show \"Total calories per day\"\n",
    "plt.plot(daily_sums['date'], daily_sums['calories'], label='Total Calories')\n",
    "plt.title('Daily Sum of Calories')\n",
    "plt.xlabel('Date')\n",
    "plt.ylabel('Calories')\n",
    "plt.legend()\n",
    "plt.show()"
   ]
  },
  {
   "cell_type": "code",
   "execution_count": null,
   "metadata": {},
   "outputs": [],
   "source": [
    "# create a plot to show \"Total price per day\"\n",
    "plt.plot(daily_sums['date'], daily_sums['price'], label='Total Price')\n",
    "plt.title('Daily Sum of Prices')\n",
    "plt.xlabel('Date')\n",
    "plt.ylabel('Price')\n",
    "plt.legend()\n",
    "plt.show()"
   ]
  },
  {
   "cell_type": "code",
   "execution_count": null,
   "metadata": {},
   "outputs": [],
   "source": [
    "# create a plot to show \"Average earnings by customer served per day\"\n",
    "daily_order_counts = order_df.groupby(order_df['date']).size().reset_index(name='order_count')\n",
    "\n",
    "daily_data = pd.merge(daily_sums, daily_order_counts, on='date')\n",
    "\n",
    "daily_data['average_earnings_per_order'] = daily_data['price'] / daily_data['order_count']\n",
    "\n",
    "plt.plot(daily_data['date'], daily_data['average_earnings_per_order'], label='Average earnings')\n",
    "plt.title('Average earnings by customer served per day')\n",
    "plt.xlabel('Date')\n",
    "plt.ylabel('Average earnings')\n",
    "plt.legend()\n",
    "plt.show()"
   ]
  }
 ],
 "metadata": {
  "kernelspec": {
   "display_name": "Python 3",
   "language": "python",
   "name": "python3"
  },
  "language_info": {
   "codemirror_mode": {
    "name": "ipython",
    "version": 3
   },
   "file_extension": ".py",
   "mimetype": "text/x-python",
   "name": "python",
   "nbconvert_exporter": "python",
   "pygments_lexer": "ipython3",
   "version": "3.8.2"
  },
  "orig_nbformat": 4
 },
 "nbformat": 4,
 "nbformat_minor": 2
}
